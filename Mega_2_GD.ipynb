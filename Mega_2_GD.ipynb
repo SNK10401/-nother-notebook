{
  "nbformat": 4,
  "nbformat_minor": 0,
  "metadata": {
    "colab": {
      "name": "Mega2GD.ipynb",
      "provenance": [],
      "collapsed_sections": []
    },
    "kernelspec": {
      "name": "python3",
      "display_name": "Python 3"
    }
  },
  "cells": [
    {
      "cell_type": "code",
      "metadata": {
        "id": "VBDWkC3zlhYW",
        "colab_type": "code",
        "colab": {}
      },
      "source": [
        "from google.colab import drive\n",
        "drive.mount('/gdrive', force_remount=True)"
      ],
      "execution_count": null,
      "outputs": []
    },
    {
      "cell_type": "code",
      "metadata": {
        "id": "u5QKfsjKpGny",
        "colab_type": "code",
        "colab": {}
      },
      "source": [
        "%cd \"path preferred directory in quotes\"  "
      ],
      "execution_count": null,
      "outputs": []
    },
    {
      "cell_type": "code",
      "metadata": {
        "id": "mIMDEqqJtinI",
        "colab_type": "code",
        "colab": {}
      },
      "source": [
        "%pwd #To print the current working directory\n",
        "%ls #To list files and folders in current working directory"
      ],
      "execution_count": null,
      "outputs": []
    },
    {
      "cell_type": "code",
      "metadata": {
        "colab_type": "code",
        "cellView": "form",
        "id": "Pt6_f2lVmGco",
        "colab": {}
      },
      "source": [
        "#@title Mega 2 Gd script\n",
        "mega_link = \"\" #@param {type:\"string\"}\n",
        "\n",
        "#@markdown <center><br><h4>Megatools doesn't create a folder from the mega folder link. You may need to create your own folder to contain the files.</h4></center>\n",
        "#@markdown <center><h5>Please do not use forward slash (/) character in the folder name.</h5></center>\n",
        "\n",
        "folder_name = \"\" #@param {type:\"string\"}\n",
        "\n",
        "import os \n",
        "\n",
        "if not os.path.exists(\"/usr/bin/megadl\"):\n",
        "  os.system('apt install megatools')\n",
        "  print(\"Megatools installed\")\n",
        "else:\n",
        "  print('Megatools already installed')\n",
        "\n",
        "spam = mega_link\n",
        "\n",
        "if \"file\" in mega_link:\n",
        "    egg = \"!\". join(mega_link.split(\"#\"))\n",
        "    spam = \"#!\".join(egg.split(\"file/\"))\n",
        "if \"folder\" in mega_link:\n",
        "    egg = \"!\". join(mega_link.split(\"#\"))\n",
        "    spam = \"#F!\".join(egg.split(\"folder/\"))\n",
        "\n",
        "\n",
        "if folder_name:\n",
        "  os.makedirs(folder_name, exist_ok=True)\n",
        "  pcom = '--path ' + \"'\" + str(os.getcwd())+\"/\" + folder_name.strip() + \"/'\"\n",
        "else:\n",
        "  pcom = ''\n",
        "\n",
        "dlcom = f\"megadl {pcom.strip()} {spam}\"\n",
        "# dlcom =  [\"megadl\", \"--path\", folder_name, spam]\n",
        "\n",
        "print('Copy and run this in the next cell:' + '\\n!' + dlcom)\n"
      ],
      "execution_count": null,
      "outputs": []
    },
    {
      "cell_type": "code",
      "metadata": {
        "id": "zic1hBNO-qGh",
        "colab_type": "code",
        "colab": {}
      },
      "source": [
        ""
      ],
      "execution_count": null,
      "outputs": []
    }
  ]
}